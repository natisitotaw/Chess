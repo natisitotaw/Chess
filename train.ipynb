{
  "cells": [
    {
      "cell_type": "markdown",
      "metadata": {
        "id": "view-in-github",
        "colab_type": "text"
      },
      "source": [
        "<a href=\"https://colab.research.google.com/github/natisitotaw/Chess-Engine/blob/main/train.ipynb\" target=\"_parent\"><img src=\"https://colab.research.google.com/assets/colab-badge.svg\" alt=\"Open In Colab\"/></a>"
      ]
    },
    {
      "cell_type": "code",
      "execution_count": null,
      "metadata": {
        "id": "dZhlI0libbMI"
      },
      "outputs": [],
      "source": [
        "import torch\n",
        "from sklearn.model_selection import train_test_split\n",
        "from torch.utils.data import DataLoader, TensorDataset\n",
        "import torch.nn as nn\n",
        "import torch.optim as optim"
      ]
    },
    {
      "cell_type": "code",
      "execution_count": null,
      "metadata": {
        "colab": {
          "base_uri": "https://localhost:8080/"
        },
        "id": "BpL5fSMmcIS4",
        "outputId": "16dab7cb-1e37-42b1-cc59-f9c0fc992a8e"
      },
      "outputs": [
        {
          "output_type": "stream",
          "name": "stdout",
          "text": [
            "Requirement already satisfied: chess in /usr/local/lib/python3.10/dist-packages (1.10.0)\n"
          ]
        }
      ],
      "source": [
        "# Install the chess library for handling PGN files\n",
        "!pip install chess"
      ]
    },
    {
      "cell_type": "code",
      "execution_count": null,
      "metadata": {
        "id": "c4ZUagFqbxKY"
      },
      "outputs": [],
      "source": [
        "import os\n",
        "import time\n",
        "from chess import pgn\n"
      ]
    },
    {
      "cell_type": "code",
      "execution_count": null,
      "metadata": {
        "colab": {
          "base_uri": "https://localhost:8080/"
        },
        "id": "au8wMrNwcSlQ",
        "outputId": "da42235c-0060-4bb9-b6c1-ffe11d23c085"
      },
      "outputs": [
        {
          "output_type": "stream",
          "name": "stdout",
          "text": [
            "Requirement already satisfied: zstandard in /usr/local/lib/python3.10/dist-packages (0.23.0)\n"
          ]
        }
      ],
      "source": [
        "\n",
        "# Install zstandard for decompressing zst files\n",
        "!pip install zstandard\n"
      ]
    },
    {
      "cell_type": "code",
      "source": [
        "import os\n",
        "import requests\n",
        "import zstandard as zstd\n",
        "\n",
        "# URL of the zst file containing PGN chess games\n",
        "url = 'https://database.lichess.org/standard/lichess_db_standard_rated_2013-01.pgn.zst'\n",
        "\n",
        "# Directory to save the downloaded file and extract it\n",
        "directory = 'data/pgn'\n",
        "\n",
        "# Create the directory if it doesn't exist\n",
        "os.makedirs(directory, exist_ok=True)\n",
        "\n",
        "# Path to save the downloaded zst file\n",
        "zst_file_path = os.path.join(directory, 'lichess_elite_2020-08.pgn.zst')\n",
        "\n",
        "# Download the zst file\n",
        "response = requests.get(url)\n",
        "with open(zst_file_path, 'wb') as f:\n",
        "    f.write(response.content)\n",
        "\n",
        "# Path to save the decompressed PGN file\n",
        "pgn_file_path = os.path.join(directory, 'lichess_elite_2020-08.pgn')\n",
        "\n",
        "# Decompress the zst file into a PGN file\n",
        "with open(zst_file_path, 'rb') as compressed_file, open(pgn_file_path, 'wb') as decompressed_file:\n",
        "    dctx = zstd.ZstdDecompressor()\n",
        "    dctx.copy_stream(compressed_file, decompressed_file)\n",
        "\n",
        "# Remove the downloaded zst file to save space\n",
        "os.remove(zst_file_path)\n",
        "\n",
        "print(f\"File downloaded, decompressed, and placed in '{directory}'.\")"
      ],
      "metadata": {
        "colab": {
          "base_uri": "https://localhost:8080/"
        },
        "id": "4d2Obui-peHl",
        "outputId": "72cbb1bb-5fdf-4dce-b73d-e8c1b6090c36"
      },
      "execution_count": null,
      "outputs": [
        {
          "output_type": "stream",
          "name": "stdout",
          "text": [
            "File downloaded, decompressed, and placed in 'data/pgn'.\n"
          ]
        }
      ]
    },
    {
      "cell_type": "code",
      "source": [
        "!pip install tqdm"
      ],
      "metadata": {
        "colab": {
          "base_uri": "https://localhost:8080/"
        },
        "id": "_WOTJvNHfP9Z",
        "outputId": "2a58e186-26c3-4241-ab05-6560b3cfaf8d"
      },
      "execution_count": null,
      "outputs": [
        {
          "output_type": "stream",
          "name": "stdout",
          "text": [
            "Requirement already satisfied: tqdm in /usr/local/lib/python3.10/dist-packages (4.66.4)\n"
          ]
        }
      ]
    },
    {
      "cell_type": "markdown",
      "source": [],
      "metadata": {
        "id": "e3D-BQx7fPsC"
      }
    },
    {
      "cell_type": "code",
      "execution_count": null,
      "metadata": {
        "id": "wFj818ShdUYA",
        "colab": {
          "base_uri": "https://localhost:8080/"
        },
        "outputId": "2272a7b4-cb8e-43b3-ef2d-e5117477fcd4"
      },
      "outputs": [
        {
          "output_type": "stream",
          "name": "stderr",
          "text": [
            "  0%|          | 0/1 [06:53<?, ?it/s]\n"
          ]
        }
      ],
      "source": [
        "from tqdm import tqdm\n",
        "def load_pgn(file_path):\n",
        "    \"\"\"\n",
        "    Load chess games from a PGN file.\n",
        "\n",
        "    Args:\n",
        "        file_path (str): Path to the PGN file.\n",
        "\n",
        "    Returns:\n",
        "        list: List of chess games.\n",
        "    \"\"\"\n",
        "    games = []\n",
        "    with open(file_path, 'r') as pgn_file:\n",
        "        while True:\n",
        "            game = pgn.read_game(pgn_file)\n",
        "            if game is None:\n",
        "                break\n",
        "            games.append(game)\n",
        "    return games\n",
        "\n",
        "files = [file for file in os.listdir(\"data/pgn\") if file.endswith(\".pgn\")]\n",
        "LIMIT_OF_FILES = min(len(files), 28)\n",
        "games = []\n",
        "i = 1\n",
        "for file in tqdm(files):\n",
        "    games.extend(load_pgn(f\"data/pgn/{file}\"))\n",
        "    if i >= LIMIT_OF_FILES:\n",
        "        break\n",
        "    i += 1"
      ]
    },
    {
      "cell_type": "code",
      "source": [
        "print(f\"GAMES PARSED: {len(games)}\")"
      ],
      "metadata": {
        "colab": {
          "base_uri": "https://localhost:8080/"
        },
        "id": "wgiAn1DAta-I",
        "outputId": "27f5e7c6-d600-44a3-d42b-d43139682018"
      },
      "execution_count": null,
      "outputs": [
        {
          "output_type": "stream",
          "name": "stdout",
          "text": [
            "GAMES PARSED: 121332\n"
          ]
        }
      ]
    },
    {
      "cell_type": "code",
      "source": [
        "import numpy as np\n",
        "from chess import Board\n",
        "\n",
        "def board_to_matrix(board: Board) -> np.ndarray:\n",
        "    \"\"\"\n",
        "    Convert a chess board to a 3D matrix representation.\n",
        "\n",
        "    Args:\n",
        "        board (Board): Chess board object from the chess library.\n",
        "\n",
        "    Returns:\n",
        "        np.ndarray: 3D matrix representing the board state.\n",
        "    \"\"\"\n",
        "    # Initialize a matrix of shape (13, 8, 8) to represent different pieces and legal moves\n",
        "    matrix = np.zeros((13, 8, 8), dtype=np.uint8)\n",
        "    piece_map = board.piece_map()\n",
        "\n",
        "    # Populate the matrix with piece information\n",
        "    for square, piece in piece_map.items():\n",
        "        row, col = divmod(square, 8)\n",
        "        piece_type = piece.piece_type - 1\n",
        "        piece_color = 0 if piece.color else 6\n",
        "        matrix[piece_type + piece_color, row, col] = 1\n",
        "\n",
        "    # Populate the 13th layer of the matrix with legal moves\n",
        "    legal_moves = board.legal_moves\n",
        "    for move in legal_moves:\n",
        "        to_square = move.to_square\n",
        "        row_to, col_to = divmod(to_square, 8)\n",
        "        matrix[12, row_to, col_to] = 1\n",
        "\n",
        "    return matrix\n",
        "\n",
        "def create_input_for_nn(games) -> tuple[np.ndarray, np.ndarray]:\n",
        "    \"\"\"\n",
        "    Prepare the data for training by converting game moves to input matrices and labels.\n",
        "\n",
        "    Args:\n",
        "        games (list): List of chess games.\n",
        "\n",
        "    Returns:\n",
        "        tuple: Tuple of numpy arrays (X, y) where X is the input data and y is the labels.\n",
        "    \"\"\"\n",
        "    X = []\n",
        "    y = []\n",
        "    move_to_int = {}  # Dictionary to map move to integer index\n",
        "    move_idx = 0\n",
        "\n",
        "    for game in games:\n",
        "        board = game.board()\n",
        "        for move in game.mainline_moves():\n",
        "            board_matrix = board_to_matrix(board)\n",
        "            X.append(board_matrix)\n",
        "\n",
        "            move_str = move.uci()\n",
        "            if move_str not in move_to_int:\n",
        "                move_to_int[move_str] = move_idx\n",
        "                move_idx += 1\n",
        "            y.append(move_to_int[move_str])\n",
        "\n",
        "            board.push(move)\n",
        "\n",
        "    # Convert lists to numpy arrays\n",
        "    X = np.array(X, dtype=np.uint8)\n",
        "    y = np.array(y, dtype=np.uint16)  # Use uint16 if move indices are within 2^16\n",
        "\n",
        "    return X, y\n",
        "\n",
        "def encode_moves(moves) -> tuple[np.ndarray, dict]:\n",
        "    \"\"\"\n",
        "    Encode moves into integer indices for model training.\n",
        "\n",
        "    Args:\n",
        "        moves (list): List of moves in string format.\n",
        "\n",
        "    Returns:\n",
        "        tuple: Encoded moves as numpy array and a dictionary mapping moves to indices.\n",
        "    \"\"\"\n",
        "    move_to_int = {move: idx for idx, move in enumerate(set(moves))}\n",
        "    encoded_moves = np.array([move_to_int[move] for move in moves], dtype=np.uint16)\n",
        "    return encoded_moves, move_to_int\n"
      ],
      "metadata": {
        "id": "Hrqvholxybgk"
      },
      "execution_count": null,
      "outputs": []
    },
    {
      "cell_type": "code",
      "source": [
        "\n",
        "X, y = create_input_for_nn(games)\n",
        "\n",
        "print(f\"NUMBER OF SAMPLES: {len(y)}\")"
      ],
      "metadata": {
        "id": "sa3upaI4xA85"
      },
      "execution_count": null,
      "outputs": []
    },
    {
      "cell_type": "code",
      "source": [
        "X = X[0:2500000]\n",
        "y = y[0:2500000]"
      ],
      "metadata": {
        "id": "X1IrVxq--yOk"
      },
      "execution_count": null,
      "outputs": []
    },
    {
      "cell_type": "code",
      "source": [
        "y, move_to_int = encode_moves(y)\n",
        "num_classes = len(move_to_int)"
      ],
      "metadata": {
        "id": "ZuLwob8B-zp8"
      },
      "execution_count": null,
      "outputs": []
    },
    {
      "cell_type": "code",
      "source": [
        "X = torch.tensor(X, dtype=torch.float32)\n",
        "y = torch.tensor(y, dtype=torch.long)"
      ],
      "metadata": {
        "id": "_kYqV-Ye-9IT"
      },
      "execution_count": null,
      "outputs": []
    },
    {
      "cell_type": "code",
      "source": [
        "import torch.nn as nn\n",
        "\n",
        "\n",
        "class ChessModel(nn.Module):\n",
        "    def __init__(self, num_classes):\n",
        "        \"\"\"\n",
        "        Initialize the neural network model for chess move prediction.\n",
        "\n",
        "        Args:\n",
        "            num_classes (int): Number of unique moves (output classes).\n",
        "        \"\"\"\n",
        "        super(ChessModel, self).__init__()\n",
        "        # Define the layers of the neural network\n",
        "        self.conv1 = nn.Conv2d(13, 64, kernel_size=3, padding=1)\n",
        "        self.conv2 = nn.Conv2d(64, 128, kernel_size=3, padding=1)\n",
        "        self.flatten = nn.Flatten()\n",
        "        self.fc1 = nn.Linear(8 * 8 * 128, 256)\n",
        "        self.fc2 = nn.Linear(256, num_classes)\n",
        "        self.relu = nn.ReLU()\n",
        "\n",
        "        # Initialize weights\n",
        "        nn.init.kaiming_uniform_(self.conv1.weight, nonlinearity='relu')\n",
        "        nn.init.kaiming_uniform_(self.conv2.weight, nonlinearity='relu')\n",
        "        nn.init.xavier_uniform_(self.fc1.weight)\n",
        "        nn.init.xavier_uniform_(self.fc2.weight)\n",
        "\n",
        "    def forward(self, x):\n",
        "        \"\"\"\n",
        "        Forward pass through the network.\n",
        "\n",
        "        Args:\n",
        "            x (torch.Tensor): Input tensor.\n",
        "\n",
        "        Returns:\n",
        "            torch.Tensor: Output logits from the network.\n",
        "        \"\"\"\n",
        "        x = self.relu(self.conv1(x))\n",
        "        x = self.relu(self.conv2(x))\n",
        "        x = self.flatten(x)\n",
        "        x = self.relu(self.fc1(x))\n",
        "        x = self.fc2(x)  # Output raw logits\n",
        "        return x"
      ],
      "metadata": {
        "id": "ezWbWQOe_DVS"
      },
      "execution_count": null,
      "outputs": []
    },
    {
      "cell_type": "code",
      "source": [
        "from dataset import ChessDataset\n",
        "\n",
        "# Create Dataset and DataLoader\n",
        "dataset = ChessDataset(X, y)\n",
        "dataloader = DataLoader(dataset, batch_size=64, shuffle=True)\n",
        "\n",
        "# Check for GPU\n",
        "device = torch.device(\"cuda\" if torch.cuda.is_available() else \"cpu\")\n",
        "print(f'Using device: {device}')\n",
        "\n",
        "# Model Initialization\n",
        "model = ChessModel(num_classes=num_classes).to(device)\n",
        "criterion = nn.CrossEntropyLoss()\n",
        "optimizer = optim.Adam(model.parameters(), lr=0.0001)"
      ],
      "metadata": {
        "id": "H0IdQsNM_Buk"
      },
      "execution_count": null,
      "outputs": []
    },
    {
      "cell_type": "markdown",
      "source": [
        "# Traning"
      ],
      "metadata": {
        "id": "mmRuEWCS_Ta8"
      }
    },
    {
      "cell_type": "code",
      "source": [
        "num_epochs = 50\n",
        "for epoch in range(num_epochs):\n",
        "    start_time = time.time()\n",
        "    model.train()\n",
        "    running_loss = 0.0\n",
        "    for inputs, labels in tqdm(dataloader):\n",
        "        inputs, labels = inputs.to(device), labels.to(device)  # Move data to GPU\n",
        "        optimizer.zero_grad()\n",
        "\n",
        "        outputs = model(inputs)  # Raw logits\n",
        "\n",
        "        # Compute loss\n",
        "        loss = criterion(outputs, labels)\n",
        "        loss.backward()\n",
        "\n",
        "        # Gradient clipping\n",
        "        torch.nn.utils.clip_grad_norm_(model.parameters(), max_norm=1.0)\n",
        "\n",
        "        optimizer.step()\n",
        "        running_loss += loss.item()\n",
        "    end_time = time.time()\n",
        "    epoch_time = end_time - start_time\n",
        "    minutes: int = int(epoch_time // 60)\n",
        "    seconds: int = int(epoch_time) - minutes * 60\n",
        "    print(f'Epoch {epoch + 1 + 50}/{num_epochs + 1 + 50}, Loss: {running_loss / len(dataloader):.4f}, Time: {minutes}m{seconds}s')"
      ],
      "metadata": {
        "id": "53QMzs6p_SuL"
      },
      "execution_count": null,
      "outputs": []
    },
    {
      "cell_type": "markdown",
      "source": [
        "# Save the model and mapping"
      ],
      "metadata": {
        "id": "ChbBMi8u_ZN0"
      }
    },
    {
      "cell_type": "code",
      "source": [
        "# Save the model\n",
        "torch.save(model.state_dict(), \"../../models/model.pth\")\n",
        "import pickle\n",
        "\n",
        "with open(\"../../models/heavy_move_to_int\", \"wb\") as file:\n",
        "    pickle.dump(move_to_int, file)"
      ],
      "metadata": {
        "id": "JV7pW_c-_Yac"
      },
      "execution_count": null,
      "outputs": []
    }
  ],
  "metadata": {
    "colab": {
      "provenance": [],
      "gpuType": "T4",
      "include_colab_link": true
    },
    "kernelspec": {
      "display_name": "Python 3",
      "name": "python3"
    },
    "language_info": {
      "name": "python"
    },
    "accelerator": "GPU"
  },
  "nbformat": 4,
  "nbformat_minor": 0
}